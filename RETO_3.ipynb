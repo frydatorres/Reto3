{
  "nbformat": 4,
  "nbformat_minor": 0,
  "metadata": {
    "colab": {
      "name": "RETO 3 ",
      "provenance": [],
      "authorship_tag": "ABX9TyOnohfi2KaxvFxTBZTfG2GL",
      "include_colab_link": true
    },
    "kernelspec": {
      "name": "python3",
      "display_name": "Python 3"
    }
  },
  "cells": [
    {
      "cell_type": "markdown",
      "metadata": {
        "id": "view-in-github",
        "colab_type": "text"
      },
      "source": [
        "<a href=\"https://colab.research.google.com/github/frydatorres/Reto3/blob/main/RETO_3.ipynb\" target=\"_parent\"><img src=\"https://colab.research.google.com/assets/colab-badge.svg\" alt=\"Open In Colab\"/></a>"
      ]
    },
    {
      "cell_type": "markdown",
      "metadata": {
        "id": "VFiXGb5sapPQ"
      },
      "source": [
        "Para este reto 3 nos apoyamos del curso de Python que impartio Rodo, nos guiaremos de acuerdo a lo aprendido "
      ]
    },
    {
      "cell_type": "markdown",
      "metadata": {
        "id": "lQdhcd5OwbS3"
      },
      "source": [
        "Istalaremos el paquete de Microsoft para consumir los servicios cognitivos"
      ]
    },
    {
      "cell_type": "code",
      "metadata": {
        "colab": {
          "base_uri": "https://localhost:8080/"
        },
        "id": "CHXg8kh5wLBY",
        "outputId": "e33d485c-483a-4f80-fa54-573b673b25be"
      },
      "source": [
        "!pip install --upgrade azure-ai-anomalydetector"
      ],
      "execution_count": 25,
      "outputs": [
        {
          "output_type": "stream",
          "text": [
            "Collecting azure-ai-anomalydetector\n",
            "  Downloading https://files.pythonhosted.org/packages/ee/af/35bfdacb4a7916398a550e8b8b5cc23a9bd5cd3eedf0dcfb6beb72150dc7/azure_ai_anomalydetector-3.0.0b2-py2.py3-none-any.whl\n",
            "Collecting azure-common~=1.1\n",
            "  Downloading https://files.pythonhosted.org/packages/19/2b/46ada1753c4a640bc3ad04a1e20b1a5ea52a8f18079e1b8238e536aa0c98/azure_common-1.1.26-py2.py3-none-any.whl\n",
            "Collecting azure-core<2.0.0,>=1.6.0\n",
            "\u001b[?25l  Downloading https://files.pythonhosted.org/packages/f5/2a/ad5f6bb3fcbb5c59087183041c82fe74d536204a03f9a662db825e1b3be4/azure_core-1.11.0-py2.py3-none-any.whl (127kB)\n",
            "\u001b[K     |████████████████████████████████| 133kB 12.2MB/s \n",
            "\u001b[?25hCollecting msrest>=0.5.0\n",
            "\u001b[?25l  Downloading https://files.pythonhosted.org/packages/e8/cc/6c96bfb3d3cf4c3bdedfa6b46503223f4c2a4fa388377697e0f8082a4fed/msrest-0.6.21-py2.py3-none-any.whl (85kB)\n",
            "\u001b[K     |████████████████████████████████| 92kB 6.2MB/s \n",
            "\u001b[?25hRequirement already satisfied, skipping upgrade: six>=1.11.0 in /usr/local/lib/python3.7/dist-packages (from azure-core<2.0.0,>=1.6.0->azure-ai-anomalydetector) (1.15.0)\n",
            "Requirement already satisfied, skipping upgrade: requests>=2.18.4 in /usr/local/lib/python3.7/dist-packages (from azure-core<2.0.0,>=1.6.0->azure-ai-anomalydetector) (2.23.0)\n",
            "Requirement already satisfied, skipping upgrade: certifi>=2017.4.17 in /usr/local/lib/python3.7/dist-packages (from msrest>=0.5.0->azure-ai-anomalydetector) (2020.12.5)\n",
            "Requirement already satisfied, skipping upgrade: requests-oauthlib>=0.5.0 in /usr/local/lib/python3.7/dist-packages (from msrest>=0.5.0->azure-ai-anomalydetector) (1.3.0)\n",
            "Collecting isodate>=0.6.0\n",
            "\u001b[?25l  Downloading https://files.pythonhosted.org/packages/9b/9f/b36f7774ff5ea8e428fdcfc4bb332c39ee5b9362ddd3d40d9516a55221b2/isodate-0.6.0-py2.py3-none-any.whl (45kB)\n",
            "\u001b[K     |████████████████████████████████| 51kB 3.9MB/s \n",
            "\u001b[?25hRequirement already satisfied, skipping upgrade: idna<3,>=2.5 in /usr/local/lib/python3.7/dist-packages (from requests>=2.18.4->azure-core<2.0.0,>=1.6.0->azure-ai-anomalydetector) (2.10)\n",
            "Requirement already satisfied, skipping upgrade: urllib3!=1.25.0,!=1.25.1,<1.26,>=1.21.1 in /usr/local/lib/python3.7/dist-packages (from requests>=2.18.4->azure-core<2.0.0,>=1.6.0->azure-ai-anomalydetector) (1.24.3)\n",
            "Requirement already satisfied, skipping upgrade: chardet<4,>=3.0.2 in /usr/local/lib/python3.7/dist-packages (from requests>=2.18.4->azure-core<2.0.0,>=1.6.0->azure-ai-anomalydetector) (3.0.4)\n",
            "Requirement already satisfied, skipping upgrade: oauthlib>=3.0.0 in /usr/local/lib/python3.7/dist-packages (from requests-oauthlib>=0.5.0->msrest>=0.5.0->azure-ai-anomalydetector) (3.1.0)\n",
            "Installing collected packages: azure-common, azure-core, isodate, msrest, azure-ai-anomalydetector\n",
            "Successfully installed azure-ai-anomalydetector-3.0.0b2 azure-common-1.1.26 azure-core-1.11.0 isodate-0.6.0 msrest-0.6.21\n"
          ],
          "name": "stdout"
        }
      ]
    },
    {
      "cell_type": "markdown",
      "metadata": {
        "id": "Fve6UV1EwW6E"
      },
      "source": [
        "Importamos las blibliotecas de fuciones \r\n",
        "\r\n"
      ]
    },
    {
      "cell_type": "code",
      "metadata": {
        "id": "PEa-696sw_IQ"
      },
      "source": [
        "import os\r\n",
        "from azure.ai.anomalydetector import AnomalyDetectorClient\r\n",
        "from azure.ai.anomalydetector.models import DetectRequest, TimeSeriesPoint, TimeGranularity, \\\r\n",
        "    AnomalyDetectorError\r\n",
        "from azure.core.credentials import AzureKeyCredential\r\n",
        "import pandas as pd"
      ],
      "execution_count": 44,
      "outputs": []
    },
    {
      "cell_type": "markdown",
      "metadata": {
        "id": "L1x16_jUxU0I"
      },
      "source": [
        "Autenticamos nuestro acceso "
      ]
    },
    {
      "cell_type": "code",
      "metadata": {
        "id": "x_WqCJ631Q7v"
      },
      "source": [
        "SUBSCRIPTION_KEY=\"3c6943aaac3542bfb4ead73a95c60fe1\"\r\n",
        "ANOMALY_DETECTOR_ENDPOINT=\"https://detecciodeanomalias.cognitiveservices.azure.com/\"\r\n",
        "client = AnomalyDetectorClient(AzureKeyCredential(SUBSCRIPTION_KEY), ANOMALY_DETECTOR_ENDPOINT)"
      ],
      "execution_count": 45,
      "outputs": []
    },
    {
      "cell_type": "markdown",
      "metadata": {
        "id": "3HbgE7wd2uvx"
      },
      "source": [
        "procedemos a detectar anomalias en todo el conjuto de datos"
      ]
    },
    {
      "cell_type": "code",
      "metadata": {
        "id": "6Dts6UJH2t0L"
      },
      "source": [
        "print('Detecting anomalies in the entire time series.')\r\n",
        "\r\n",
        "try:\r\n",
        "    response = client.detect_entire_series(request)\r\n",
        "except AnomalyDetectorError as e:\r\n",
        "    print('Error code: {}'.format(e.error.code), 'Error message: {}'.format(e.error.message))\r\n",
        "except Exception as e:\r\n",
        "    print(e)\r\n",
        "\r\n",
        "if any(response.is_anomaly):\r\n",
        "    print('An anomaly was detected at index:')\r\n",
        "    for i, value in enumerate(response.is_anomaly):\r\n",
        "        if value:\r\n",
        "            print(i)\r\n",
        "else:\r\n",
        "    print('No anomalies were detected in the time series.')"
      ],
      "execution_count": null,
      "outputs": []
    }
  ]
}